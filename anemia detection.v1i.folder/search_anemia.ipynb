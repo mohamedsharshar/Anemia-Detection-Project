{
 "cells": [
  {
   "cell_type": "code",
   "execution_count": 3,
   "id": "44e44733-3a8f-4b68-b47e-63e7682bcd4a",
   "metadata": {},
   "outputs": [
    {
     "name": "stdout",
     "output_type": "stream",
     "text": [
      "Anemia found: Normocytic anemia\n"
     ]
    }
   ],
   "source": [
    "\n",
    "data = [\n",
    "    {\"type\": \"Healthy\", \"symptoms\": [\"No symptoms or occasional fatigue\"]},\n",
    "    {\"type\": \"Normocytic anemia\", \"symptoms\": [\"Fatigue\", \"Paleness\", \"Shortness of breath\", \"Dizziness\"]},\n",
    "    {\"type\": \"Microcytic anemia\", \"symptoms\": [\"Fatigue\", \"Weakness\", \"Shortness of breath\", \"Pale skin\"]},\n",
    "    {\"type\": \"Macrocytic anemia\", \"symptoms\": [\"Fatigue\", \"Muscle weakness\", \"Pale or yellowish skin\", \"Shortness of breath\"]},\n",
    "    {\"type\": \"Thrombocytopenia\", \"symptoms\": [\"Easy bruising\", \"Bleeding gums\", \"Nosebleeds\", \"Prolonged bleeding\"]},\n",
    "    {\"type\": \"Leukemia\", \"symptoms\": [\"Frequent infections\", \"Fatigue\", \"Weight loss\", \"Easy bruising\", \"Swollen lymph nodes\"]},\n",
    "    {\"type\": \"Iron deficiency anemia\", \"symptoms\": [\"Extreme fatigue\", \"Weakness\", \"Cold hands and feet\", \"Brittle nails\", \"Cravings for non-nutritive substances like ice or dirt\"]},\n",
    "    {\"type\": \"Other microcytic anemia\", \"symptoms\": [\"Fatigue\", \"Weakness\", \"Pale skin\", \"Shortness of breath\"]},\n",
    "    {\"type\": \"Normocytic hypochromic anemia\", \"symptoms\": [\"Mild fatigue\", \"Pale skin\", \"Dizziness\"]},\n",
    "    {\"type\": \"Normocytic normochromic anemia\", \"symptoms\": [\"Mild fatigue\", \"Weakness\", \"Shortness of breath\"]},\n",
    "    {\"type\": \"Leukemia with thrombocytopenia\", \"symptoms\": [\"Fatigue\", \"Easy bruising\", \"Prolonged bleeding\", \"Frequent infections\"]},\n",
    "]\n",
    "\n",
    "goal_symptoms = [\"Fatigue\", \"Paleness\", \"Shortness of breath\", \"Dizziness\"]\n",
    "\n",
    "# Find the number of matching symptoms\n",
    "def match_count(disease_symptoms, goal_symptoms):\n",
    "    return sum(1 for symptom in disease_symptoms if symptom.lower() in map(str.lower, goal_symptoms))\n",
    "\n",
    "# Simple BFS search for matching diseases\n",
    "def bfs_search(data, goal_symptoms):\n",
    "    queue = data[:]  # Copy the data to the queue\n",
    "    visited = set()  # Set to keep track of processed diseases\n",
    "\n",
    "    while queue:\n",
    "        current_disease = queue.pop(0)\n",
    "        \n",
    "        # Check for exact match\n",
    "        if set(map(str.lower, current_disease['symptoms'])) == set(map(str.lower, goal_symptoms)):\n",
    "            return current_disease\n",
    "        \n",
    "        # Add disease to visited set to prevent re-processing\n",
    "        visited.add(current_disease['type'].lower())\n",
    "        \n",
    "        # Check partial matches and add them to the queue if they haven't been processed yet\n",
    "        for neighbor in data:\n",
    "            if neighbor['type'].lower() not in visited and match_count(neighbor['symptoms'], goal_symptoms) > 0:\n",
    "                queue.append(neighbor)\n",
    "                visited.add(neighbor['type'].lower())\n",
    "\n",
    "    return None  # If no match is found\n",
    "\n",
    "# Show partial matches for the given symptoms\n",
    "def find_partial_matches(data, goal_symptoms):\n",
    "    return [\n",
    "        f\"{disease['type']} (Matching symptoms: {', '.join(set(map(str.lower, disease['symptoms'])).intersection(map(str.lower, goal_symptoms)))})\"\n",
    "        for disease in data if match_count(disease['symptoms'], goal_symptoms) > 0\n",
    "    ]\n",
    "\n",
    "# Search for anemia based on symptoms\n",
    "def search_anemia(data, goal_symptoms):\n",
    "    result = bfs_search(data, goal_symptoms)\n",
    "    \n",
    "    if result:\n",
    "        print(f\"Anemia found: {result['type']}\")\n",
    "    else:\n",
    "        print(\"No exact match found.\")\n",
    "        partial_matches = find_partial_matches(data, goal_symptoms)\n",
    "        if partial_matches:\n",
    "            print(\"Partial matches for the symptoms provided:\")\n",
    "            for match in partial_matches:\n",
    "                print(match)\n",
    "        else:\n",
    "            print(\"No diseases match the provided symptoms.\")\n",
    "\n",
    "# Apply the search\n",
    "search_anemia(data, goal_symptoms)\n"
   ]
  }
 ],
 "metadata": {
  "kernelspec": {
   "display_name": "Python 3",
   "language": "python",
   "name": "python3"
  },
  "language_info": {
   "codemirror_mode": {
    "name": "ipython",
    "version": 3
   },
   "file_extension": ".py",
   "mimetype": "text/x-python",
   "name": "python",
   "nbconvert_exporter": "python",
   "pygments_lexer": "ipython3",
   "version": "3.13.1"
  }
 },
 "nbformat": 4,
 "nbformat_minor": 5
}
